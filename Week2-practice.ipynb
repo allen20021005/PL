{
 "cells": [
  {
   "cell_type": "code",
   "execution_count": 2,
   "id": "254366d6",
   "metadata": {},
   "outputs": [
    {
     "name": "stdout",
     "output_type": "stream",
     "text": [
      "在一行車糾紛中，雙方都有違規，所以雙方皆有過失責任，判決結果為雙方一判賠比例賠償，判賠比例為7:3(被告:原告)，而一開始賠償總額為25688元。\n",
      "Q.請將原告及被告個別須分擔的賠償金額算出來(取整數)\n",
      "\n",
      "答:被告要付 17981 ，原告要付 7706\n"
     ]
    }
   ],
   "source": [
    "#練習一\n",
    "practice1=\"在一行車糾紛中，雙方都有違規，所以雙方皆有過失責任，判決結果為雙方一判賠比例賠償，判賠比例為7:3(被告:原告)，而一開始賠償總額為25688元。\"\n",
    "str1=\"Q.請將原告及被告個別須分擔的賠償金額算出來(取整數)\"\n",
    "money=25688\n",
    "被告= int(money*0.7)\n",
    "原告= int(money*0.3)\n",
    "\n",
    "print(practice1)\n",
    "print(str1)\n",
    "print()\n",
    "print(\"答:被告要付\",被告,\"，原告要付\",原告)"
   ]
  },
  {
   "cell_type": "code",
   "execution_count": 1,
   "id": "27e9e4c8",
   "metadata": {},
   "outputs": [
    {
     "name": "stdout",
     "output_type": "stream",
     "text": [
      "總共要還： 12608 元\n"
     ]
    }
   ],
   "source": [
    "#練習二\n",
    "money=11805\n",
    "dayrate=0.0005\n",
    "month1=150\n",
    "month2=300\n",
    "all_money=money*(1+dayrate)**59+month1+month2\n",
    "print(\"總共要還：\",int(all_money),\"元\")"
   ]
  },
  {
   "cell_type": "code",
   "execution_count": 5,
   "id": "acac489a",
   "metadata": {},
   "outputs": [
    {
     "name": "stdout",
     "output_type": "stream",
     "text": [
      "請輸入案件被告闖紅燈\n",
      "被告賠100%\n"
     ]
    }
   ],
   "source": [
    "#練習三\n",
    "event=input(\"請輸入案件\")\n",
    "if event==\"被告闖紅燈\":\n",
    "   print(\"被告賠100%\")\n",
    "elif event==\"原告闖紅燈\":\n",
    "   print(\"原告賠100%\")\n",
    "elif event==\"被告原告皆闖紅燈\":\n",
    "   print(\"原告50%被告50%\")\n",
    "else :\n",
    "   print(\"請填入有效訊息\")"
   ]
  },
  {
   "cell_type": "code",
   "execution_count": null,
   "id": "78923812",
   "metadata": {},
   "outputs": [],
   "source": []
  }
 ],
 "metadata": {
  "kernelspec": {
   "display_name": "Python 3.9.12 ('base')",
   "language": "python",
   "name": "python3"
  },
  "language_info": {
   "codemirror_mode": {
    "name": "ipython",
    "version": 3
   },
   "file_extension": ".py",
   "mimetype": "text/x-python",
   "name": "python",
   "nbconvert_exporter": "python",
   "pygments_lexer": "ipython3",
   "version": "3.9.12"
  },
  "vscode": {
   "interpreter": {
    "hash": "cb5f1790cfcaadd8eb9ee6986822fd719d54cf407d2a3c520cb08782a615ff58"
   }
  }
 },
 "nbformat": 4,
 "nbformat_minor": 5
}
