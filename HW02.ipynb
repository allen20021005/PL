{
 "cells": [
  {
   "cell_type": "code",
   "execution_count": 1,
   "id": "78f9431c",
   "metadata": {},
   "outputs": [],
   "source": [
    "# 將資料存成json檔並放入dict中\n",
    "import json"
   ]
  },
  {
   "cell_type": "code",
   "execution_count": 2,
   "id": "f180a0f2",
   "metadata": {},
   "outputs": [
    {
     "data": {
      "text/plain": [
       "dict"
      ]
     },
     "execution_count": 2,
     "metadata": {},
     "output_type": "execute_result"
    }
   ],
   "source": [
    "test = open('player.json',encoding=\"utf8\")\n",
    "Data = json.load(test)\n",
    "type(Data)"
   ]
  },
  {
   "cell_type": "code",
   "execution_count": 4,
   "id": "d73547d0",
   "metadata": {},
   "outputs": [
    {
     "data": {
      "text/plain": [
       "dict_items([('players', [{'名字': 'LeBron James', '號碼': 6, '身高': 205.7, '位置': ['前鋒']}, {'名字': 'Russell Westbrook', '號碼': 0, '身高': 190.5, '位置': ['後衛']}, {'名字': 'Patrick Beverley', '號碼': 21, '身高': 188, '位置': ['後衛']}, {'名字': 'Anthony Davis', '號碼': 3, '身高': 208.3, '位置': ['前鋒,中鋒']}, {'名字': 'Damian Jones', '號碼': 30, '身高': 210.8, '位置': ['中鋒']}, {'名字': 'Thomas Bryant', '號碼': 31, '身高': 208.3, '位置': ['前鋒,中鋒']}, {'名字': 'Troy Brown Jr.', '號碼': 7, '身高': 200.7, '位置': ['後衛,前鋒']}, {'名字': 'Lonnie Walker IV', '號碼': 4, '身高': 193, '位置': ['後衛,前鋒']}, {'名字': 'Wenyen Gabriel', '號碼': 35, '身高': 205.7, '位置': ['前鋒']}, {'名字': 'Juan Toscano-Anderson', '號碼': 95, '身高': 198.1, '位置': ['前鋒']}])])"
      ]
     },
     "execution_count": 4,
     "metadata": {},
     "output_type": "execute_result"
    }
   ],
   "source": [
    "Data.items()"
   ]
  },
  {
   "cell_type": "code",
   "execution_count": 6,
   "id": "e4b28008",
   "metadata": {},
   "outputs": [
    {
     "data": {
      "text/plain": [
       "[{'名字': 'LeBron James', '號碼': 6, '身高': 205.7, '位置': ['前鋒']},\n",
       " {'名字': 'Russell Westbrook', '號碼': 0, '身高': 190.5, '位置': ['後衛']},\n",
       " {'名字': 'Patrick Beverley', '號碼': 21, '身高': 188, '位置': ['後衛']},\n",
       " {'名字': 'Anthony Davis', '號碼': 3, '身高': 208.3, '位置': ['前鋒,中鋒']},\n",
       " {'名字': 'Damian Jones', '號碼': 30, '身高': 210.8, '位置': ['中鋒']},\n",
       " {'名字': 'Thomas Bryant', '號碼': 31, '身高': 208.3, '位置': ['前鋒,中鋒']},\n",
       " {'名字': 'Troy Brown Jr.', '號碼': 7, '身高': 200.7, '位置': ['後衛,前鋒']},\n",
       " {'名字': 'Lonnie Walker IV', '號碼': 4, '身高': 193, '位置': ['後衛,前鋒']},\n",
       " {'名字': 'Wenyen Gabriel', '號碼': 35, '身高': 205.7, '位置': ['前鋒']},\n",
       " {'名字': 'Juan Toscano-Anderson', '號碼': 95, '身高': 198.1, '位置': ['前鋒']}]"
      ]
     },
     "execution_count": 6,
     "metadata": {},
     "output_type": "execute_result"
    }
   ],
   "source": [
    "temp = Data.get(\"players\")\n",
    "temp"
   ]
  },
  {
   "cell_type": "code",
   "execution_count": 10,
   "id": "24899b83",
   "metadata": {},
   "outputs": [],
   "source": [
    "#查詢功能\n",
    "#查詢號碼\n",
    "ask = \"Russell Westbrook\""
   ]
  },
  {
   "cell_type": "code",
   "execution_count": 13,
   "id": "5f50a3a7",
   "metadata": {},
   "outputs": [
    {
     "name": "stdout",
     "output_type": "stream",
     "text": [
      "Russell Westbrook 是 0 號\n"
     ]
    }
   ],
   "source": [
    "for i in temp :\n",
    "    if ask == i.get(\"名字\"):\n",
    "        print(ask,\"是\", i.get(\"號碼\"),\"號\")"
   ]
  },
  {
   "cell_type": "code",
   "execution_count": 14,
   "id": "34024b1c",
   "metadata": {},
   "outputs": [
    {
     "data": {
      "text/plain": [
       "[205.7, 190.5, 188, 208.3, 210.8, 208.3, 200.7, 193, 205.7, 198.1]"
      ]
     },
     "execution_count": 14,
     "metadata": {},
     "output_type": "execute_result"
    }
   ],
   "source": [
    "#排序身高\n",
    "allheight = []\n",
    "for i in temp:\n",
    "    allheight.append(i.get(\"身高\"))\n",
    "allheight"
   ]
  },
  {
   "cell_type": "code",
   "execution_count": 15,
   "id": "48df4e3a",
   "metadata": {},
   "outputs": [],
   "source": [
    "allheight_enumerate = enumerate(allheight, start = 1)"
   ]
  },
  {
   "cell_type": "code",
   "execution_count": 16,
   "id": "02ea644e",
   "metadata": {},
   "outputs": [
    {
     "data": {
      "text/plain": [
       "[(5, 210.8),\n",
       " (4, 208.3),\n",
       " (6, 208.3),\n",
       " (1, 205.7),\n",
       " (9, 205.7),\n",
       " (7, 200.7),\n",
       " (10, 198.1),\n",
       " (8, 193),\n",
       " (2, 190.5),\n",
       " (3, 188)]"
      ]
     },
     "execution_count": 16,
     "metadata": {},
     "output_type": "execute_result"
    }
   ],
   "source": [
    "allheight_enumerate_sorted = sorted(allheight_enumerate, key = lambda s: s[1], reverse = True)\n",
    "allheight_enumerate_sorted"
   ]
  },
  {
   "cell_type": "code",
   "execution_count": 17,
   "id": "9aa5dd9b",
   "metadata": {},
   "outputs": [
    {
     "data": {
      "text/plain": [
       "5"
      ]
     },
     "execution_count": 17,
     "metadata": {},
     "output_type": "execute_result"
    }
   ],
   "source": [
    "#第一個\n",
    "allheight_enumerate_sorted[0][0]"
   ]
  },
  {
   "cell_type": "code",
   "execution_count": 19,
   "id": "689a0715",
   "metadata": {},
   "outputs": [
    {
     "name": "stdout",
     "output_type": "stream",
     "text": [
      "Damian Jones 是 210.8 公分\n",
      "Anthony Davis 是 208.3 公分\n",
      "Thomas Bryant 是 208.3 公分\n",
      "LeBron James 是 205.7 公分\n",
      "Wenyen Gabriel 是 205.7 公分\n",
      "Troy Brown Jr. 是 200.7 公分\n",
      "Juan Toscano-Anderson 是 198.1 公分\n",
      "Lonnie Walker IV 是 193 公分\n",
      "Russell Westbrook 是 190.5 公分\n",
      "Patrick Beverley 是 188 公分\n"
     ]
    }
   ],
   "source": [
    "#印出排序過後的身高與名字\n",
    "for i in allheight_enumerate_sorted:\n",
    "    j = i[0] -1\n",
    "    print(temp[j].get(\"名字\"),\"是\",temp[j].get(\"身高\"),\"公分\")"
   ]
  },
  {
   "cell_type": "code",
   "execution_count": null,
   "id": "25a00f2f",
   "metadata": {},
   "outputs": [],
   "source": []
  }
 ],
 "metadata": {
  "kernelspec": {
   "display_name": "Python 3 (ipykernel)",
   "language": "python",
   "name": "python3"
  },
  "language_info": {
   "codemirror_mode": {
    "name": "ipython",
    "version": 3
   },
   "file_extension": ".py",
   "mimetype": "text/x-python",
   "name": "python",
   "nbconvert_exporter": "python",
   "pygments_lexer": "ipython3",
   "version": "3.9.12"
  }
 },
 "nbformat": 4,
 "nbformat_minor": 5
}
