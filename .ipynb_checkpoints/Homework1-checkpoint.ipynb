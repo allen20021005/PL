{
 "cells": [
  {
   "cell_type": "code",
   "execution_count": 30,
   "id": "191bf0b2",
   "metadata": {},
   "outputs": [
    {
     "name": "stdout",
     "output_type": "stream",
     "text": [
      "   出戰馬來西亞名單\n",
      "0       陳盈駿\n",
      "1       胡瓏貿\n",
      "2       周儀翔\n",
      "3       呂政儒\n",
      "4       周柏臣\n",
      "5       陳冠全\n",
      "6       李啟瑋\n",
      "7        黃鎮\n",
      "8       黃泓瀚\n",
      "9       黃聰翰\n",
      "10      蔣淯安\n",
      "11      曾祥鈞\n",
      "   出戰日本隊名單\n",
      "0      陳盈駿\n",
      "1      周儀翔\n",
      "2      胡瓏貿\n",
      "3      蔣淯安\n",
      "4      呂政儒\n",
      "5      李啟瑋\n",
      "6      蘇奕晉\n",
      "7      于煥亞\n",
      "8      黃聰翰\n",
      "9      陳冠全\n",
      "10     周柏臣\n",
      "11     謝宗融\n"
     ]
    }
   ],
   "source": [
    "#想比較2021中華隊男籃亞洲盃出戰日本和馬來西亞名單的差異\n",
    "import pandas as pd\n",
    "\n",
    "# read csv file\n",
    "Malaysia = pd.read_csv(\"Malaysia.csv\")\n",
    "Japan = pd.read_csv(\"Japan.csv\")\n",
    "#test\n",
    "print(Malaysia)\n",
    "print(Japan)"
   ]
  },
  {
   "cell_type": "code",
   "execution_count": 34,
   "id": "794645f6",
   "metadata": {},
   "outputs": [
    {
     "name": "stdout",
     "output_type": "stream",
     "text": [
      "{'呂政儒', '黃泓瀚', '陳冠全', '蔣淯安', '陳盈駿', '周儀翔', '黃鎮', '曾祥鈞', '胡瓏貿', '李啟瑋', '黃聰翰', '周柏臣'}\n",
      "{'呂政儒', '謝宗融', '于煥亞', '蔣淯安', '陳冠全', '陳盈駿', '周儀翔', '胡瓏貿', '周柏臣', '李啟瑋', '蘇奕晉', '黃聰翰'}\n"
     ]
    }
   ],
   "source": [
    "#設定資料\n",
    "Malaysia_people = set(Malaysia[\"出戰馬來西亞名單\"])\n",
    "Japan_people = set(Japan[\"出戰日本隊名單\"])\n",
    "#test\n",
    "print(Malaysia_people)\n",
    "print(Japan_people)"
   ]
  },
  {
   "cell_type": "code",
   "execution_count": 43,
   "id": "ddb7b312",
   "metadata": {},
   "outputs": [
    {
     "name": "stdout",
     "output_type": "stream",
     "text": [
      "{'呂政儒', '陳冠全', '蔣淯安', '陳盈駿', '周儀翔', '胡瓏貿', '李啟瑋', '黃聰翰', '周柏臣'}\n",
      "總共 9 人\n"
     ]
    }
   ],
   "source": [
    "#取交集(有出戰馬來西亞也有出戰日本的選手)\n",
    "print(Malaysia_people & Japan_people)\n",
    "print(\"總共\",len(Malaysia_people & Japan_people),\"人\")"
   ]
  },
  {
   "cell_type": "code",
   "execution_count": 45,
   "id": "fb5faf84",
   "metadata": {},
   "outputs": [
    {
     "name": "stdout",
     "output_type": "stream",
     "text": [
      "{'黃泓瀚', '謝宗融', '于煥亞', '蔣淯安', '陳盈駿', '黃鎮', '曾祥鈞', '黃聰翰', '周柏臣', '呂政儒', '陳冠全', '周儀翔', '胡瓏貿', '李啟瑋', '蘇奕晉'}\n",
      "總共 15 人\n"
     ]
    }
   ],
   "source": [
    "#取聯集(出戰馬來西亞或日本的選手)\n",
    "print(Malaysia_people | Japan_people)\n",
    "print(\"總共\",len(Malaysia_people | Japan_people),\"人\")"
   ]
  },
  {
   "cell_type": "code",
   "execution_count": 46,
   "id": "5f57f317",
   "metadata": {},
   "outputs": [
    {
     "name": "stdout",
     "output_type": "stream",
     "text": [
      "{'曾祥鈞', '黃鎮', '黃泓瀚'}\n",
      "總共 3 人\n"
     ]
    }
   ],
   "source": [
    "#差集(有出戰馬來西亞但沒有出戰日本的選手)\n",
    "print(Malaysia_people - Japan_people)\n",
    "print(\"總共\",len(Malaysia_people - Japan_people),\"人\")"
   ]
  },
  {
   "cell_type": "code",
   "execution_count": 47,
   "id": "01fdb7bb",
   "metadata": {},
   "outputs": [
    {
     "name": "stdout",
     "output_type": "stream",
     "text": [
      "{'蘇奕晉', '謝宗融', '于煥亞'}\n",
      "總共 3 人\n"
     ]
    }
   ],
   "source": [
    "#差級(有出戰日本但沒有出戰馬來西亞的選手)\n",
    "print(Japan_people - Malaysia_people)\n",
    "print(\"總共\",len(Japan_people - Malaysia_people),\"人\")"
   ]
  },
  {
   "cell_type": "code",
   "execution_count": 48,
   "id": "7a6e9022",
   "metadata": {},
   "outputs": [
    {
     "name": "stdout",
     "output_type": "stream",
     "text": [
      "{'黃泓瀚', '謝宗融', '于煥亞', '黃鎮', '曾祥鈞', '蘇奕晉'}\n",
      "總共 6 人\n"
     ]
    }
   ],
   "source": [
    "#對稱差級(只出戰馬來西亞一場或是只出戰日本的選手)\n",
    "print(Malaysia_people ^ Japan_people)\n",
    "print(\"總共\",len(Malaysia_people ^ Japan_people),\"人\")"
   ]
  }
 ],
 "metadata": {
  "kernelspec": {
   "display_name": "Python 3 (ipykernel)",
   "language": "python",
   "name": "python3"
  },
  "language_info": {
   "codemirror_mode": {
    "name": "ipython",
    "version": 3
   },
   "file_extension": ".py",
   "mimetype": "text/x-python",
   "name": "python",
   "nbconvert_exporter": "python",
   "pygments_lexer": "ipython3",
   "version": "3.9.12"
  }
 },
 "nbformat": 4,
 "nbformat_minor": 5
}
