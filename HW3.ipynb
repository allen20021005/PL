{
 "cells": [
  {
   "cell_type": "code",
   "execution_count": 42,
   "id": "a03fb8d0",
   "metadata": {},
   "outputs": [
    {
     "name": "stdout",
     "output_type": "stream",
     "text": [
      "國立臺灣師範大學-百年傳承 世紀典範\n"
     ]
    }
   ],
   "source": [
    "#抓取網頁原始碼(HTML)\n",
    "import urllib.request as req\n",
    "url = \"https://www.ntnu.edu.tw/\"\n",
    "with req.urlopen(url) as response:\n",
    "    data = response.read().decode(\"utf-8\")\n",
    "#print(data)\n",
    "\n",
    "request = req.Request(url,headers = {\n",
    "    \"User-Agent\":\" Mozilla/5.0 (Windows NT 10.0; Win64; x64) AppleWebKit/537.36 (KHTML, like Gecko) Chrome/107.0.0.0 Safari/537.36\"})\n",
    "with req.urlopen(request) as response:\n",
    "    data = response.read().decode(\"utf-8\")\n",
    "#print(data)\n",
    "import bs4 #beautifulsoup4\n",
    "root = bs4.BeautifulSoup(data,\"html.parser\")\n",
    "titles = root.find_all(\"div\",class_ = \"title\") #尋找所有 class = \"title\" 的 div 標籤\n",
    "#print(titles)\n",
    "print(root.title.string)\n"
   ]
  },
  {
   "cell_type": "code",
   "execution_count": 115,
   "id": "4c04c7dc",
   "metadata": {
    "scrolled": true
   },
   "outputs": [
    {
     "name": "stdout",
     "output_type": "stream",
     "text": [
      "QS世界大學永續排名  臺師大名列全臺第三(另開新視窗)\n",
      "71級校友40重聚 重返校園回憶青春 (另開新視窗)\n",
      "傳承百年薈萃風華 舊制臺北高校100週年紀念論壇(另開新視窗)\n",
      "國際時尚碩班陳亞蘭校友 破天荒女性奪金鐘視帝(另開新視窗)\n",
      "教學實踐研究計畫經驗分享會 由「課程」出發的研究新視野(另開新視窗)\n",
      "文資保存、人才培育與地方創生 國社院江柏煒院長談金門經驗(另開新視窗)\n",
      "臺師大EMI領航教師社群 引領全校EMI教師專業發展(另開新視窗)\n",
      "國際人資所慶祝創所20年 舉辦第20屆國際研討會(另開新視窗)\n",
      "腦科學研究告訴你，運動對ADHD孩童的助益(另開新視窗)\n",
      "大腦如何降低聽覺的預期誤差(另開新視窗)\n",
      " 原來運動選手的大腦不一樣！(另開新視窗)\n",
      "啊哈！原來如此！頓悟產生的大腦運作機制(另開新視窗)\n",
      "國際技能競賽汽車技術類 工教系詹許堃奪金牌(另開新視窗)\n",
      "父子優秀表現獲肯定 百年校慶共享榮耀(另開新視窗)\n",
      "體育系王冠閎勇奪德國世界盃200蝶摘銅(另開新視窗)\n",
      "地科系學生團隊榮獲NASA黑客松臺北城市賽第三名 (另開新視窗)\n",
      "文學院跨文化英語講座 探索菲律賓歷史與生活(另開新視窗)\n",
      "  “Knock, knock. Treat no trick.”\t 文學院EMI萬聖節活動敲開交流的大門(另開新視窗)\n",
      "校運會抽籤會議 公布出場順序與注意事項(另開新視窗)\n",
      "地科系最年輕女教授 李悅寧27歲拿法國博士 教育部拍攝女性科學家影片(另開新視窗)\n",
      "https://pr.ntnu.edu.tw/ntnunews/index.php?mode=data&id=21135\n",
      "https://pr.ntnu.edu.tw/ntnunews/index.php?mode=data&id=21128\n",
      "https://pr.ntnu.edu.tw/ntnunews/index.php?mode=data&id=21120\n",
      "https://pr.ntnu.edu.tw/ntnunews/index.php?mode=data&id=21121\n",
      "https://pr.ntnu.edu.tw/ntnunews/index.php?mode=data&id=21144\n",
      "https://pr.ntnu.edu.tw/ntnunews/index.php?mode=data&id=21136\n",
      "https://pr.ntnu.edu.tw/ntnunews/index.php?mode=data&id=21138\n",
      "https://pr.ntnu.edu.tw/ntnunews/index.php?mode=data&id=21132\n",
      "https://pr.ntnu.edu.tw/ntnunews/index.php?mode=data&id=21112\n",
      "https://pr.ntnu.edu.tw/ntnunews/index.php?mode=data&id=21097\n",
      "https://pr.ntnu.edu.tw/ntnunews/index.php?mode=data&id=21087\n",
      "https://pr.ntnu.edu.tw/ntnunews/index.php?mode=data&id=21085\n",
      "https://pr.ntnu.edu.tw/ntnunews/index.php?mode=data&id=21137\n",
      "https://pr.ntnu.edu.tw/ntnunews/index.php?mode=data&id=21142\n",
      "https://pr.ntnu.edu.tw/ntnunews/index.php?mode=data&id=21119\n",
      "https://pr.ntnu.edu.tw/ntnunews/index.php?mode=data&id=21108\n",
      "https://pr.ntnu.edu.tw/ntnunews/index.php?mode=data&id=21145\n",
      "https://pr.ntnu.edu.tw/ntnunews/index.php?mode=data&id=21146\n",
      "https://pr.ntnu.edu.tw/ntnunews/index.php?mode=data&id=21143\n",
      "https://pr.ntnu.edu.tw/ntnunews/index.php?mode=data&id=21140\n"
     ]
    }
   ],
   "source": [
    "#想找到最新消息\n",
    "import urllib.request as req\n",
    "url = \"https://www.ntnu.edu.tw/\"\n",
    "\n",
    "from bs4 import BeautifulSoup\n",
    "\n",
    "response = requests.get(url)\n",
    "soup = BeautifulSoup(response.text,\"html.parser\")\n",
    "#print(soup.prettify()) #輸出排版後的HTML內容\n",
    "#find()：只搜尋第一個符合條件的HTML節點，傳入要搜尋的標籤名稱。\n",
    "#print(soup.find(class_=\"index-news-list\").find(\"a\").get('title'))\n",
    "#print(soup.find(class_=\"index-news-list\").a['title'])\n",
    "#兩者語法依一樣\n",
    "#先印出一個\n",
    "new_list=soup.find_all(class_=\"index-news-list\")\n",
    "#print(new_list)\n",
    "for i in new_list:\n",
    "    print(i.find(\"a\").get(\"title\"))#印出標題\n",
    "for i in new_list:\n",
    "    print(i.find(\"a\").get(\"href\"))#印出網址\n"
   ]
  },
  {
   "cell_type": "code",
   "execution_count": 142,
   "id": "473c9f92",
   "metadata": {},
   "outputs": [],
   "source": [
    "#將資料寫入CSV檔\n",
    "import csv\n",
    "file = open('ntnu.csv',mode='w', newline='',encoding='UTF-8')\n",
    "writer = csv.writer(file)\n",
    "header=([\"標題\",\"網址\"])\n",
    "writer.writerow(header)\n",
    "for i in new_list:\n",
    "    writer.writerow([i.find(\"a\").get(\"title\"),i.find(\"a\").get(\"href\")])\n",
    "file.close()"
   ]
  },
  {
   "cell_type": "code",
   "execution_count": 154,
   "id": "8a819f32",
   "metadata": {},
   "outputs": [
    {
     "name": "stdout",
     "output_type": "stream",
     "text": [
      "                                                   標題  \\\n",
      "0                        QS世界大學永續排名  臺師大名列全臺第三(另開新視窗)   \n",
      "1                          71級校友40重聚 重返校園回憶青春 (另開新視窗)   \n",
      "2                     傳承百年薈萃風華 舊制臺北高校100週年紀念論壇(另開新視窗)   \n",
      "3                       國際時尚碩班陳亞蘭校友 破天荒女性奪金鐘視帝(另開新視窗)   \n",
      "4                  教學實踐研究計畫經驗分享會 由「課程」出發的研究新視野(另開新視窗)   \n",
      "5                 文資保存、人才培育與地方創生 國社院江柏煒院長談金門經驗(另開新視窗)   \n",
      "6                   臺師大EMI領航教師社群 引領全校EMI教師專業發展(另開新視窗)   \n",
      "7                     國際人資所慶祝創所20年 舉辦第20屆國際研討會(另開新視窗)   \n",
      "8                        腦科學研究告訴你，運動對ADHD孩童的助益(另開新視窗)   \n",
      "9                                大腦如何降低聽覺的預期誤差(另開新視窗)   \n",
      "10                               原來運動選手的大腦不一樣！(另開新視窗)   \n",
      "11                         啊哈！原來如此！頓悟產生的大腦運作機制(另開新視窗)   \n",
      "12                       國際技能競賽汽車技術類 工教系詹許堃奪金牌(另開新視窗)   \n",
      "13                          父子優秀表現獲肯定 百年校慶共享榮耀(另開新視窗)   \n",
      "14                         體育系王冠閎勇奪德國世界盃200蝶摘銅(另開新視窗)   \n",
      "15                   地科系學生團隊榮獲NASA黑客松臺北城市賽第三名 (另開新視窗)   \n",
      "16                       文學院跨文化英語講座 探索菲律賓歷史與生活(另開新視窗)   \n",
      "17    “Knock, knock. Treat no trick.”\\t 文學院EMI萬聖節活...   \n",
      "18                         校運會抽籤會議 公布出場順序與注意事項(另開新視窗)   \n",
      "19          地科系最年輕女教授 李悅寧27歲拿法國博士 教育部拍攝女性科學家影片(另開新視窗)   \n",
      "\n",
      "                                                   網址  \n",
      "0   https://pr.ntnu.edu.tw/ntnunews/index.php?mode...  \n",
      "1   https://pr.ntnu.edu.tw/ntnunews/index.php?mode...  \n",
      "2   https://pr.ntnu.edu.tw/ntnunews/index.php?mode...  \n",
      "3   https://pr.ntnu.edu.tw/ntnunews/index.php?mode...  \n",
      "4   https://pr.ntnu.edu.tw/ntnunews/index.php?mode...  \n",
      "5   https://pr.ntnu.edu.tw/ntnunews/index.php?mode...  \n",
      "6   https://pr.ntnu.edu.tw/ntnunews/index.php?mode...  \n",
      "7   https://pr.ntnu.edu.tw/ntnunews/index.php?mode...  \n",
      "8   https://pr.ntnu.edu.tw/ntnunews/index.php?mode...  \n",
      "9   https://pr.ntnu.edu.tw/ntnunews/index.php?mode...  \n",
      "10  https://pr.ntnu.edu.tw/ntnunews/index.php?mode...  \n",
      "11  https://pr.ntnu.edu.tw/ntnunews/index.php?mode...  \n",
      "12  https://pr.ntnu.edu.tw/ntnunews/index.php?mode...  \n",
      "13  https://pr.ntnu.edu.tw/ntnunews/index.php?mode...  \n",
      "14  https://pr.ntnu.edu.tw/ntnunews/index.php?mode...  \n",
      "15  https://pr.ntnu.edu.tw/ntnunews/index.php?mode...  \n",
      "16  https://pr.ntnu.edu.tw/ntnunews/index.php?mode...  \n",
      "17  https://pr.ntnu.edu.tw/ntnunews/index.php?mode...  \n",
      "18  https://pr.ntnu.edu.tw/ntnunews/index.php?mode...  \n",
      "19  https://pr.ntnu.edu.tw/ntnunews/index.php?mode...  \n"
     ]
    }
   ],
   "source": [
    "#將CSV檔印出來\n",
    "import pandas as pd\n",
    "\n",
    "# read csv file\n",
    "ntnu= pd.read_csv(\"ntnu.csv\")\n",
    "#test\n",
    "print(ntnu)\n",
    "\n",
    "###圖應為左邊標題右邊網址，但字太多了有懂就好"
   ]
  },
  {
   "cell_type": "code",
   "execution_count": 170,
   "id": "bc8f624e",
   "metadata": {
    "scrolled": true
   },
   "outputs": [
    {
     "name": "stdout",
     "output_type": "stream",
     "text": [
      "succees!\n"
     ]
    }
   ],
   "source": [
    "import csv\n",
    "import json\n",
    "import pandas as pd\n",
    "csvfile = open('ntnu.csv','r', encoding='UTF-8')#,encoding=\"gbk\",errors='ignore'\n",
    "jsonfile = open('ntnu.json','w', encoding='UTF-8',)\n",
    "namesss= pd.read_csv('ntnu.csv')\n",
    "fieldnames1=namesss.columns\n",
    "#type(fieldnames1)\n",
    "#fieldnames = (\"time\",\"real_t\",\"predict_t\")\n",
    "aaaa=tuple(fieldnames1)\n",
    "reader = csv.DictReader(csvfile,aaaa)\n",
    "for row in reader:\n",
    "    json.dump(row,jsonfile)\n",
    "    jsonfile.write('\\n')\n",
    "jsonfile.close()\n",
    "csvfile.close()\n",
    "print(\"succees!\")"
   ]
  }
 ],
 "metadata": {
  "kernelspec": {
   "display_name": "Python 3 (ipykernel)",
   "language": "python",
   "name": "python3"
  },
  "language_info": {
   "codemirror_mode": {
    "name": "ipython",
    "version": 3
   },
   "file_extension": ".py",
   "mimetype": "text/x-python",
   "name": "python",
   "nbconvert_exporter": "python",
   "pygments_lexer": "ipython3",
   "version": "3.9.12"
  }
 },
 "nbformat": 4,
 "nbformat_minor": 5
}
